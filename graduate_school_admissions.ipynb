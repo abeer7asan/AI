{
  "nbformat": 4,
  "nbformat_minor": 0,
  "metadata": {
    "colab": {
      "provenance": [],
      "mount_file_id": "1AFUpXgjej4vJA9kNKXpPwsbZPHQbqKii",
      "authorship_tag": "ABX9TyM281lmpTyZKc8EhvhZjqvD",
      "include_colab_link": true
    },
    "kernelspec": {
      "name": "python3",
      "display_name": "Python 3"
    },
    "language_info": {
      "name": "python"
    }
  },
  "cells": [
    {
      "cell_type": "markdown",
      "metadata": {
        "id": "view-in-github",
        "colab_type": "text"
      },
      "source": [
        "<a href=\"https://colab.research.google.com/github/abeer7asan/AI/blob/main/graduate_school_admissions.ipynb\" target=\"_parent\"><img src=\"https://colab.research.google.com/assets/colab-badge.svg\" alt=\"Open In Colab\"/></a>"
      ]
    },
    {
      "cell_type": "code",
      "execution_count": 1,
      "metadata": {
        "id": "StprFkRdudvN"
      },
      "outputs": [],
      "source": [
        "import numpy as np\n",
        "import pandas as pd"
      ]
    },
    {
      "cell_type": "markdown",
      "source": [],
      "metadata": {
        "id": "qwwTgUWTIzr4"
      }
    },
    {
      "cell_type": "code",
      "source": [
        "def sigmoid(x):\n",
        "  return 1/(1+np.exp(x))"
      ],
      "metadata": {
        "id": "9IufDCdAvMHD"
      },
      "execution_count": 2,
      "outputs": []
    },
    {
      "cell_type": "code",
      "source": [
        "df = pd.read_csv(\"/content/drive/MyDrive/AI/Exercise /graduate school admissions/binary_model.csv\")"
      ],
      "metadata": {
        "id": "ePOPZSXavaOL"
      },
      "execution_count": 3,
      "outputs": []
    },
    {
      "cell_type": "code",
      "source": [
        "print(df)"
      ],
      "metadata": {
        "colab": {
          "base_uri": "https://localhost:8080/"
        },
        "id": "esTF3YiCy-dx",
        "outputId": "152cbcbd-d56b-4222-9bdf-f8fbc8489890"
      },
      "execution_count": 4,
      "outputs": [
        {
          "output_type": "stream",
          "name": "stdout",
          "text": [
            "     admit  gre   gpa  rank\n",
            "0        0  380  3.61     3\n",
            "1        1  660  3.67     3\n",
            "2        1  800  4.00     1\n",
            "3        1  640  3.19     4\n",
            "4        0  520  2.93     4\n",
            "..     ...  ...   ...   ...\n",
            "344      0  520  3.35     3\n",
            "345      0  500  3.03     3\n",
            "346      0  600  3.35     2\n",
            "347      0  580  3.80     2\n",
            "348      0  400  3.36     2\n",
            "\n",
            "[349 rows x 4 columns]\n"
          ]
        }
      ]
    },
    {
      "cell_type": "code",
      "source": [
        "one_hot_encoding = pd.get_dummies(df['rank'], dtype=int)"
      ],
      "metadata": {
        "id": "T1hZs6sR0ski"
      },
      "execution_count": 5,
      "outputs": []
    },
    {
      "cell_type": "code",
      "source": [
        "print(one_hot_encoding)"
      ],
      "metadata": {
        "colab": {
          "base_uri": "https://localhost:8080/"
        },
        "id": "WWLcqID3080-",
        "outputId": "440d161e-3159-48c2-d0ee-54a906971a89"
      },
      "execution_count": 6,
      "outputs": [
        {
          "output_type": "stream",
          "name": "stdout",
          "text": [
            "     1  2  3  4\n",
            "0    0  0  1  0\n",
            "1    0  0  1  0\n",
            "2    1  0  0  0\n",
            "3    0  0  0  1\n",
            "4    0  0  0  1\n",
            "..  .. .. .. ..\n",
            "344  0  0  1  0\n",
            "345  0  0  1  0\n",
            "346  0  1  0  0\n",
            "347  0  1  0  0\n",
            "348  0  1  0  0\n",
            "\n",
            "[349 rows x 4 columns]\n"
          ]
        }
      ]
    },
    {
      "cell_type": "code",
      "source": [
        "df_encoded = pd.concat([df, one_hot_encoding], axis=1)"
      ],
      "metadata": {
        "id": "LRDdOoo51T47"
      },
      "execution_count": 7,
      "outputs": []
    },
    {
      "cell_type": "code",
      "source": [
        "print(df_encoded)"
      ],
      "metadata": {
        "colab": {
          "base_uri": "https://localhost:8080/"
        },
        "id": "P8UlSGUd12_d",
        "outputId": "3bd030a1-7c83-4af3-bd37-3be103fe10ee"
      },
      "execution_count": 8,
      "outputs": [
        {
          "output_type": "stream",
          "name": "stdout",
          "text": [
            "     admit  gre   gpa  rank  1  2  3  4\n",
            "0        0  380  3.61     3  0  0  1  0\n",
            "1        1  660  3.67     3  0  0  1  0\n",
            "2        1  800  4.00     1  1  0  0  0\n",
            "3        1  640  3.19     4  0  0  0  1\n",
            "4        0  520  2.93     4  0  0  0  1\n",
            "..     ...  ...   ...   ... .. .. .. ..\n",
            "344      0  520  3.35     3  0  0  1  0\n",
            "345      0  500  3.03     3  0  0  1  0\n",
            "346      0  600  3.35     2  0  1  0  0\n",
            "347      0  580  3.80     2  0  1  0  0\n",
            "348      0  400  3.36     2  0  1  0  0\n",
            "\n",
            "[349 rows x 8 columns]\n"
          ]
        }
      ]
    },
    {
      "cell_type": "code",
      "source": [
        "df_encoded.drop(columns=['rank'], inplace=True)"
      ],
      "metadata": {
        "id": "ZShVTxz516V9"
      },
      "execution_count": 9,
      "outputs": []
    },
    {
      "cell_type": "code",
      "source": [
        "print(df_encoded)"
      ],
      "metadata": {
        "colab": {
          "base_uri": "https://localhost:8080/"
        },
        "id": "xI1-bOwF2Q4x",
        "outputId": "b29e19b6-2d66-4c3a-9ed4-b2d4046f2197"
      },
      "execution_count": 10,
      "outputs": [
        {
          "output_type": "stream",
          "name": "stdout",
          "text": [
            "     admit  gre   gpa  1  2  3  4\n",
            "0        0  380  3.61  0  0  1  0\n",
            "1        1  660  3.67  0  0  1  0\n",
            "2        1  800  4.00  1  0  0  0\n",
            "3        1  640  3.19  0  0  0  1\n",
            "4        0  520  2.93  0  0  0  1\n",
            "..     ...  ...   ... .. .. .. ..\n",
            "344      0  520  3.35  0  0  1  0\n",
            "345      0  500  3.03  0  0  1  0\n",
            "346      0  600  3.35  0  1  0  0\n",
            "347      0  580  3.80  0  1  0  0\n",
            "348      0  400  3.36  0  1  0  0\n",
            "\n",
            "[349 rows x 7 columns]\n"
          ]
        }
      ]
    },
    {
      "cell_type": "code",
      "source": [
        "df_encoded = df_encoded.rename(columns={1:'rank_1', 2:'rank_2',3:'rank_3', 4:'rank_4'})"
      ],
      "metadata": {
        "id": "_Hv6ll5x2s2_"
      },
      "execution_count": 11,
      "outputs": []
    },
    {
      "cell_type": "code",
      "source": [
        "print(df_encoded)"
      ],
      "metadata": {
        "colab": {
          "base_uri": "https://localhost:8080/"
        },
        "id": "Y2ZgvDy73E1P",
        "outputId": "de4ad8a5-2e07-4dbb-fb45-855041200e4c"
      },
      "execution_count": 12,
      "outputs": [
        {
          "output_type": "stream",
          "name": "stdout",
          "text": [
            "     admit  gre   gpa  rank_1  rank_2  rank_3  rank_4\n",
            "0        0  380  3.61       0       0       1       0\n",
            "1        1  660  3.67       0       0       1       0\n",
            "2        1  800  4.00       1       0       0       0\n",
            "3        1  640  3.19       0       0       0       1\n",
            "4        0  520  2.93       0       0       0       1\n",
            "..     ...  ...   ...     ...     ...     ...     ...\n",
            "344      0  520  3.35       0       0       1       0\n",
            "345      0  500  3.03       0       0       1       0\n",
            "346      0  600  3.35       0       1       0       0\n",
            "347      0  580  3.80       0       1       0       0\n",
            "348      0  400  3.36       0       1       0       0\n",
            "\n",
            "[349 rows x 7 columns]\n"
          ]
        }
      ]
    },
    {
      "cell_type": "code",
      "source": [
        "X = df_encoded.drop('admit', axis=1)"
      ],
      "metadata": {
        "id": "RuwfFx0aDvp7"
      },
      "execution_count": 13,
      "outputs": []
    },
    {
      "cell_type": "code",
      "source": [
        "print(X)"
      ],
      "metadata": {
        "colab": {
          "base_uri": "https://localhost:8080/"
        },
        "id": "2PQehAyDEY7H",
        "outputId": "5efe156f-6b09-4f2f-bfc3-00df26ba4b12"
      },
      "execution_count": 14,
      "outputs": [
        {
          "output_type": "stream",
          "name": "stdout",
          "text": [
            "     gre   gpa  rank_1  rank_2  rank_3  rank_4\n",
            "0    380  3.61       0       0       1       0\n",
            "1    660  3.67       0       0       1       0\n",
            "2    800  4.00       1       0       0       0\n",
            "3    640  3.19       0       0       0       1\n",
            "4    520  2.93       0       0       0       1\n",
            "..   ...   ...     ...     ...     ...     ...\n",
            "344  520  3.35       0       0       1       0\n",
            "345  500  3.03       0       0       1       0\n",
            "346  600  3.35       0       1       0       0\n",
            "347  580  3.80       0       1       0       0\n",
            "348  400  3.36       0       1       0       0\n",
            "\n",
            "[349 rows x 6 columns]\n"
          ]
        }
      ]
    },
    {
      "cell_type": "code",
      "source": [
        "y = df_encoded['admit']"
      ],
      "metadata": {
        "id": "1Gcp0x9xElRc"
      },
      "execution_count": 15,
      "outputs": []
    },
    {
      "cell_type": "code",
      "source": [
        "print(y)"
      ],
      "metadata": {
        "colab": {
          "base_uri": "https://localhost:8080/"
        },
        "id": "Rl7DRecUEvak",
        "outputId": "a7343f32-f123-4a98-f236-654d89a657b7"
      },
      "execution_count": 16,
      "outputs": [
        {
          "output_type": "stream",
          "name": "stdout",
          "text": [
            "0      0\n",
            "1      1\n",
            "2      1\n",
            "3      1\n",
            "4      0\n",
            "      ..\n",
            "344    0\n",
            "345    0\n",
            "346    0\n",
            "347    0\n",
            "348    0\n",
            "Name: admit, Length: 349, dtype: int64\n"
          ]
        }
      ]
    },
    {
      "cell_type": "markdown",
      "source": [
        "split the data to test and train data"
      ],
      "metadata": {
        "id": "SeY8ecSiF_xL"
      }
    },
    {
      "cell_type": "code",
      "source": [
        "from sklearn.model_selection import train_test_split\n",
        "from sklearn.preprocessing import StandardScaler"
      ],
      "metadata": {
        "id": "wuOu1LK_GIYy"
      },
      "execution_count": 17,
      "outputs": []
    },
    {
      "cell_type": "code",
      "source": [
        "X_train, X_test, y_train, y_test = train_test_split(X,y,test_size=0.2, random_state=42)\n",
        "print(\"X_train.shape:\", X_train.shape)\n",
        "print(\"X_test.shape:\", X_test.shape)\n",
        "print(\"y_train.shape:\", y_train.shape)\n",
        "print(\"y_test.shape:\", y_test.shape)"
      ],
      "metadata": {
        "colab": {
          "base_uri": "https://localhost:8080/"
        },
        "id": "YDDvs5bWGT_G",
        "outputId": "fd27f8a8-5294-489f-a9f7-378cf7e489e0"
      },
      "execution_count": 18,
      "outputs": [
        {
          "output_type": "stream",
          "name": "stdout",
          "text": [
            "X_train.shape: (279, 6)\n",
            "X_test.shape: (70, 6)\n",
            "y_train.shape: (279,)\n",
            "y_test.shape: (70,)\n"
          ]
        }
      ]
    },
    {
      "cell_type": "code",
      "source": [
        "# initialize the scaler\n",
        "scaler = StandardScaler()\n",
        "\n",
        "# apply to test and train data\n",
        "X_train_scaler = scaler.fit_transform(X_train)\n",
        "X_test_scaler = scaler.fit_transform(X_test)\n",
        "\n"
      ],
      "metadata": {
        "id": "FdW0C1lXH5kW"
      },
      "execution_count": 19,
      "outputs": []
    },
    {
      "cell_type": "code",
      "source": [
        "print(X_train_scaler)"
      ],
      "metadata": {
        "colab": {
          "base_uri": "https://localhost:8080/"
        },
        "id": "rLr4XtbeIhNc",
        "outputId": "3bd339b7-617c-46b0-a4f9-6dcd563049ac"
      },
      "execution_count": 20,
      "outputs": [
        {
          "output_type": "stream",
          "name": "stdout",
          "text": [
            "[[-0.93009031  0.10522676 -0.42685289  1.31730563 -0.65074526 -0.47295265]\n",
            " [-0.39870083 -0.76819574  2.34272749 -0.75912528 -0.65074526 -0.47295265]\n",
            " [ 1.01833778  1.23222354 -0.42685289  1.31730563 -0.65074526 -0.47295265]\n",
            " ...\n",
            " [ 1.01833778  0.47150071  2.34272749 -0.75912528 -0.65074526 -0.47295265]\n",
            " [ 0.4869483   1.57032257 -0.42685289  1.31730563 -0.65074526 -0.47295265]\n",
            " [-1.81573944 -0.17652243 -0.42685289 -0.75912528 -0.65074526  2.11437656]]\n"
          ]
        }
      ]
    },
    {
      "cell_type": "code",
      "source": [
        "print(X_test_scaler)"
      ],
      "metadata": {
        "colab": {
          "base_uri": "https://localhost:8080/"
        },
        "id": "n6ul1rjfIhzU",
        "outputId": "9351c2dc-e5ed-4705-c229-3f0550bb4195"
      },
      "execution_count": 21,
      "outputs": [
        {
          "output_type": "stream",
          "name": "stdout",
          "text": [
            "[[-0.74535599  0.56570684  2.78388218 -0.6770032  -0.74535599 -0.52223297]\n",
            " [-0.1490712  -1.59299862 -0.3592106  -0.6770032   1.34164079 -0.52223297]\n",
            " [-2.08699678 -1.15197277 -0.3592106   1.47709789 -0.74535599 -0.52223297]\n",
            " [ 1.63978318  0.4496474   2.78388218 -0.6770032  -0.74535599 -0.52223297]\n",
            " [ 0.         -1.105549   -0.3592106  -0.6770032  -0.74535599  1.91485422]\n",
            " [-0.4472136  -0.50203995 -0.3592106   1.47709789 -0.74535599 -0.52223297]\n",
            " [-2.68328157 -1.17518466 -0.3592106  -0.6770032   1.34164079 -0.52223297]\n",
            " [-0.2981424  -0.73415881 -0.3592106  -0.6770032  -0.74535599  1.91485422]\n",
            " [ 0.74535599 -0.78058259 -0.3592106  -0.6770032  -0.74535599  1.91485422]\n",
            " [ 1.63978318  0.61213061 -0.3592106   1.47709789 -0.74535599 -0.52223297]\n",
            " [ 1.04349839  1.54060608 -0.3592106  -0.6770032   1.34164079 -0.52223297]\n",
            " [ 1.04349839  1.26206344 -0.3592106  -0.6770032   1.34164079 -0.52223297]\n",
            " [-0.59628479  1.54060608 -0.3592106  -0.6770032   1.34164079 -0.52223297]\n",
            " [ 0.1490712   0.47285929  2.78388218 -0.6770032  -0.74535599 -0.52223297]\n",
            " [ 1.63978318  0.21752854 -0.3592106   1.47709789 -0.74535599 -0.52223297]\n",
            " [-0.4472136  -1.52336296 -0.3592106  -0.6770032   1.34164079 -0.52223297]\n",
            " [-0.89442719 -0.61809938 -0.3592106   1.47709789 -0.74535599 -0.52223297]\n",
            " [ 1.63978318  1.54060608 -0.3592106  -0.6770032   1.34164079 -0.52223297]\n",
            " [-0.1490712  -0.33955674 -0.3592106  -0.6770032   1.34164079 -0.52223297]\n",
            " [ 1.63978318  0.84424948  2.78388218 -0.6770032  -0.74535599 -0.52223297]\n",
            " [-1.19256959 -1.54657485 -0.3592106  -0.6770032   1.34164079 -0.52223297]\n",
            " [-0.89442719  0.26395231 -0.3592106  -0.6770032   1.34164079 -0.52223297]\n",
            " [ 0.89442719  1.54060608 -0.3592106   1.47709789 -0.74535599 -0.52223297]\n",
            " [ 0.74535599  0.77461382 -0.3592106   1.47709789 -0.74535599 -0.52223297]\n",
            " [-0.59628479 -1.4537273  -0.3592106   1.47709789 -0.74535599 -0.52223297]\n",
            " [ 1.63978318  0.75140193  2.78388218 -0.6770032  -0.74535599 -0.52223297]\n",
            " [-0.59628479 -1.105549   -0.3592106  -0.6770032  -0.74535599  1.91485422]\n",
            " [ 0.89442719  1.35491098 -0.3592106   1.47709789 -0.74535599 -0.52223297]\n",
            " [ 0.         -0.94306579 -0.3592106   1.47709789 -0.74535599 -0.52223297]\n",
            " [-0.1490712   0.58891872 -0.3592106   1.47709789 -0.74535599 -0.52223297]\n",
            " [-0.74535599 -1.82511749  2.78388218 -0.6770032  -0.74535599 -0.52223297]\n",
            " [ 0.2981424  -0.2467092  -0.3592106  -0.6770032   1.34164079 -0.52223297]\n",
            " [ 0.1490712  -1.19839655 -0.3592106  -0.6770032  -0.74535599  1.91485422]\n",
            " [-1.78885438 -0.96627768 -0.3592106  -0.6770032   1.34164079 -0.52223297]\n",
            " [ 0.59628479  0.26395231 -0.3592106  -0.6770032  -0.74535599  1.91485422]\n",
            " [ 1.19256959  1.54060608 -0.3592106  -0.6770032   1.34164079 -0.52223297]\n",
            " [ 0.1490712  -0.43240429 -0.3592106   1.47709789 -0.74535599 -0.52223297]\n",
            " [-0.2981424   1.02994457 -0.3592106  -0.6770032  -0.74535599  1.91485422]\n",
            " [-0.2981424  -0.4091924  -0.3592106  -0.6770032   1.34164079 -0.52223297]\n",
            " [-1.04349839 -0.82700636 -0.3592106  -0.6770032   1.34164079 -0.52223297]\n",
            " [ 0.1490712  -0.26992108  2.78388218 -0.6770032  -0.74535599 -0.52223297]\n",
            " [-0.59628479  0.61213061 -0.3592106  -0.6770032   1.34164079 -0.52223297]\n",
            " [ 0.2981424  -0.57167561 -0.3592106  -0.6770032  -0.74535599  1.91485422]\n",
            " [ 1.34164079 -0.78058259 -0.3592106   1.47709789 -0.74535599 -0.52223297]\n",
            " [ 0.4472136   0.91388514 -0.3592106  -0.6770032   1.34164079 -0.52223297]\n",
            " [ 0.4472136   1.40133476 -0.3592106   1.47709789 -0.74535599 -0.52223297]\n",
            " [-1.49071198 -0.91985391 -0.3592106  -0.6770032   1.34164079 -0.52223297]\n",
            " [ 1.63978318 -0.43240429 -0.3592106  -0.6770032  -0.74535599  1.91485422]\n",
            " [ 0.          1.54060608 -0.3592106   1.47709789 -0.74535599 -0.52223297]\n",
            " [-1.19256959 -1.50015107 -0.3592106   1.47709789 -0.74535599 -0.52223297]\n",
            " [-0.2981424  -0.31634486  2.78388218 -0.6770032  -0.74535599 -0.52223297]\n",
            " [ 0.4472136  -0.33955674 -0.3592106  -0.6770032  -0.74535599  1.91485422]\n",
            " [-1.34164079 -0.94306579 -0.3592106  -0.6770032   1.34164079 -0.52223297]\n",
            " [-0.74535599  0.26395231 -0.3592106   1.47709789 -0.74535599 -0.52223297]\n",
            " [-1.04349839 -1.33766787 -0.3592106   1.47709789 -0.74535599 -0.52223297]\n",
            " [ 0.1490712  -0.0610141  -0.3592106  -0.6770032  -0.74535599  1.91485422]\n",
            " [ 0.          0.2871642  -0.3592106   1.47709789 -0.74535599 -0.52223297]\n",
            " [-1.19256959  1.35491098 -0.3592106  -0.6770032  -0.74535599  1.91485422]\n",
            " [-0.74535599  0.12468099 -0.3592106  -0.6770032  -0.74535599  1.91485422]\n",
            " [ 1.04349839  1.16921589 -0.3592106  -0.6770032   1.34164079 -0.52223297]\n",
            " [-0.4472136  -1.66263428 -0.3592106   1.47709789 -0.74535599 -0.52223297]\n",
            " [ 1.63978318  1.54060608 -0.3592106  -0.6770032   1.34164079 -0.52223297]\n",
            " [ 0.74535599  1.19242778 -0.3592106  -0.6770032   1.34164079 -0.52223297]\n",
            " [ 0.59628479  0.31037608 -0.3592106  -0.6770032   1.34164079 -0.52223297]\n",
            " [-0.1490712   0.05504533 -0.3592106  -0.6770032   1.34164079 -0.52223297]\n",
            " [ 0.59628479  0.24074042 -0.3592106   1.47709789 -0.74535599 -0.52223297]\n",
            " [-0.59628479  1.26206344 -0.3592106  -0.6770032  -0.74535599  1.91485422]\n",
            " [-2.08699678 -0.7573707  -0.3592106  -0.6770032   1.34164079 -0.52223297]\n",
            " [ 0.          1.00673268 -0.3592106  -0.6770032  -0.74535599  1.91485422]\n",
            " [ 0.74535599 -0.0610141  -0.3592106   1.47709789 -0.74535599 -0.52223297]]\n"
          ]
        }
      ]
    },
    {
      "cell_type": "markdown",
      "source": [
        "Initialize the ANN model"
      ],
      "metadata": {
        "id": "7uXNktF9JNaZ"
      }
    },
    {
      "cell_type": "code",
      "source": [
        "import tensorflow as tf\n",
        "from keras.models import Sequential\n",
        "from keras.layers import Dense"
      ],
      "metadata": {
        "id": "rgdwE5p7IsDa"
      },
      "execution_count": 24,
      "outputs": []
    },
    {
      "cell_type": "markdown",
      "source": [
        "The model expects rows of data with 6 variables (the input_shape=(6,) argument).\n",
        "The first hidden layer has 12 nodes and uses the relu activation function.\n",
        "The second hidden layer has 8 nodes and uses the relu activation function.\n",
        "The output layer has one node and uses the sigmoid activation function."
      ],
      "metadata": {
        "id": "bkmVGKCfTOAL"
      }
    },
    {
      "cell_type": "code",
      "source": [
        "model = Sequential()\n",
        "model.add(Dense(12, input_shape=(6,), activation='relu'))\n",
        "model.add(Dense(8, activation='relu'))\n",
        "model.add(Dense(1, activation='sigmoid'))\n"
      ],
      "metadata": {
        "id": "aWiX1FeXK2SB"
      },
      "execution_count": 33,
      "outputs": []
    },
    {
      "cell_type": "code",
      "source": [
        "model.compile(loss='binary_crossentropy', optimizer='adam', metrics=['accuracy'])"
      ],
      "metadata": {
        "id": "kzezTFiWSwFT"
      },
      "execution_count": 34,
      "outputs": []
    },
    {
      "cell_type": "markdown",
      "source": [
        "**Train The Model**"
      ],
      "metadata": {
        "id": "pucI4EygT6HD"
      }
    },
    {
      "cell_type": "code",
      "source": [
        "model.fit(X_train_scaler, y_train, epochs=100, batch_size=10)"
      ],
      "metadata": {
        "colab": {
          "base_uri": "https://localhost:8080/"
        },
        "id": "X07zEn9ITkVw",
        "outputId": "dc073ca2-93e0-4a9b-b3ff-0b1abd1786b5"
      },
      "execution_count": 37,
      "outputs": [
        {
          "output_type": "stream",
          "name": "stdout",
          "text": [
            "Epoch 1/100\n",
            "28/28 [==============================] - 0s 2ms/step - loss: 0.5119 - accuracy: 0.7563\n",
            "Epoch 2/100\n",
            "28/28 [==============================] - 0s 2ms/step - loss: 0.5118 - accuracy: 0.7563\n",
            "Epoch 3/100\n",
            "28/28 [==============================] - 0s 2ms/step - loss: 0.5118 - accuracy: 0.7563\n",
            "Epoch 4/100\n",
            "28/28 [==============================] - 0s 2ms/step - loss: 0.5111 - accuracy: 0.7563\n",
            "Epoch 5/100\n",
            "28/28 [==============================] - 0s 2ms/step - loss: 0.5114 - accuracy: 0.7527\n",
            "Epoch 6/100\n",
            "28/28 [==============================] - 0s 2ms/step - loss: 0.5113 - accuracy: 0.7599\n",
            "Epoch 7/100\n",
            "28/28 [==============================] - 0s 2ms/step - loss: 0.5117 - accuracy: 0.7563\n",
            "Epoch 8/100\n",
            "28/28 [==============================] - 0s 2ms/step - loss: 0.5112 - accuracy: 0.7563\n",
            "Epoch 9/100\n",
            "28/28 [==============================] - 0s 2ms/step - loss: 0.5112 - accuracy: 0.7599\n",
            "Epoch 10/100\n",
            "28/28 [==============================] - 0s 2ms/step - loss: 0.5106 - accuracy: 0.7563\n",
            "Epoch 11/100\n",
            "28/28 [==============================] - 0s 2ms/step - loss: 0.5110 - accuracy: 0.7563\n",
            "Epoch 12/100\n",
            "28/28 [==============================] - 0s 2ms/step - loss: 0.5106 - accuracy: 0.7563\n",
            "Epoch 13/100\n",
            "28/28 [==============================] - 0s 2ms/step - loss: 0.5110 - accuracy: 0.7563\n",
            "Epoch 14/100\n",
            "28/28 [==============================] - 0s 2ms/step - loss: 0.5104 - accuracy: 0.7563\n",
            "Epoch 15/100\n",
            "28/28 [==============================] - 0s 2ms/step - loss: 0.5106 - accuracy: 0.7599\n",
            "Epoch 16/100\n",
            "28/28 [==============================] - 0s 2ms/step - loss: 0.5103 - accuracy: 0.7599\n",
            "Epoch 17/100\n",
            "28/28 [==============================] - 0s 2ms/step - loss: 0.5106 - accuracy: 0.7599\n",
            "Epoch 18/100\n",
            "28/28 [==============================] - 0s 2ms/step - loss: 0.5103 - accuracy: 0.7563\n",
            "Epoch 19/100\n",
            "28/28 [==============================] - 0s 2ms/step - loss: 0.5104 - accuracy: 0.7599\n",
            "Epoch 20/100\n",
            "28/28 [==============================] - 0s 2ms/step - loss: 0.5099 - accuracy: 0.7563\n",
            "Epoch 21/100\n",
            "28/28 [==============================] - 0s 2ms/step - loss: 0.5104 - accuracy: 0.7563\n",
            "Epoch 22/100\n",
            "28/28 [==============================] - 0s 2ms/step - loss: 0.5100 - accuracy: 0.7599\n",
            "Epoch 23/100\n",
            "28/28 [==============================] - 0s 2ms/step - loss: 0.5102 - accuracy: 0.7634\n",
            "Epoch 24/100\n",
            "28/28 [==============================] - 0s 2ms/step - loss: 0.5103 - accuracy: 0.7563\n",
            "Epoch 25/100\n",
            "28/28 [==============================] - 0s 2ms/step - loss: 0.5102 - accuracy: 0.7599\n",
            "Epoch 26/100\n",
            "28/28 [==============================] - 0s 3ms/step - loss: 0.5100 - accuracy: 0.7599\n",
            "Epoch 27/100\n",
            "28/28 [==============================] - 0s 2ms/step - loss: 0.5096 - accuracy: 0.7634\n",
            "Epoch 28/100\n",
            "28/28 [==============================] - 0s 2ms/step - loss: 0.5098 - accuracy: 0.7599\n",
            "Epoch 29/100\n",
            "28/28 [==============================] - 0s 2ms/step - loss: 0.5099 - accuracy: 0.7599\n",
            "Epoch 30/100\n",
            "28/28 [==============================] - 0s 2ms/step - loss: 0.5097 - accuracy: 0.7599\n",
            "Epoch 31/100\n",
            "28/28 [==============================] - 0s 2ms/step - loss: 0.5098 - accuracy: 0.7670\n",
            "Epoch 32/100\n",
            "28/28 [==============================] - 0s 2ms/step - loss: 0.5095 - accuracy: 0.7634\n",
            "Epoch 33/100\n",
            "28/28 [==============================] - 0s 2ms/step - loss: 0.5096 - accuracy: 0.7599\n",
            "Epoch 34/100\n",
            "28/28 [==============================] - 0s 2ms/step - loss: 0.5100 - accuracy: 0.7634\n",
            "Epoch 35/100\n",
            "28/28 [==============================] - 0s 2ms/step - loss: 0.5096 - accuracy: 0.7599\n",
            "Epoch 36/100\n",
            "28/28 [==============================] - 0s 2ms/step - loss: 0.5098 - accuracy: 0.7634\n",
            "Epoch 37/100\n",
            "28/28 [==============================] - 0s 2ms/step - loss: 0.5092 - accuracy: 0.7634\n",
            "Epoch 38/100\n",
            "28/28 [==============================] - 0s 2ms/step - loss: 0.5094 - accuracy: 0.7563\n",
            "Epoch 39/100\n",
            "28/28 [==============================] - 0s 2ms/step - loss: 0.5094 - accuracy: 0.7634\n",
            "Epoch 40/100\n",
            "28/28 [==============================] - 0s 2ms/step - loss: 0.5090 - accuracy: 0.7634\n",
            "Epoch 41/100\n",
            "28/28 [==============================] - 0s 2ms/step - loss: 0.5088 - accuracy: 0.7634\n",
            "Epoch 42/100\n",
            "28/28 [==============================] - 0s 2ms/step - loss: 0.5090 - accuracy: 0.7634\n",
            "Epoch 43/100\n",
            "28/28 [==============================] - 0s 2ms/step - loss: 0.5088 - accuracy: 0.7634\n",
            "Epoch 44/100\n",
            "28/28 [==============================] - 0s 2ms/step - loss: 0.5096 - accuracy: 0.7634\n",
            "Epoch 45/100\n",
            "28/28 [==============================] - 0s 3ms/step - loss: 0.5089 - accuracy: 0.7634\n",
            "Epoch 46/100\n",
            "28/28 [==============================] - 0s 3ms/step - loss: 0.5090 - accuracy: 0.7670\n",
            "Epoch 47/100\n",
            "28/28 [==============================] - 0s 3ms/step - loss: 0.5093 - accuracy: 0.7599\n",
            "Epoch 48/100\n",
            "28/28 [==============================] - 0s 3ms/step - loss: 0.5088 - accuracy: 0.7599\n",
            "Epoch 49/100\n",
            "28/28 [==============================] - 0s 3ms/step - loss: 0.5085 - accuracy: 0.7634\n",
            "Epoch 50/100\n",
            "28/28 [==============================] - 0s 3ms/step - loss: 0.5084 - accuracy: 0.7634\n",
            "Epoch 51/100\n",
            "28/28 [==============================] - 0s 4ms/step - loss: 0.5087 - accuracy: 0.7634\n",
            "Epoch 52/100\n",
            "28/28 [==============================] - 0s 3ms/step - loss: 0.5085 - accuracy: 0.7634\n",
            "Epoch 53/100\n",
            "28/28 [==============================] - 0s 3ms/step - loss: 0.5085 - accuracy: 0.7670\n",
            "Epoch 54/100\n",
            "28/28 [==============================] - 0s 4ms/step - loss: 0.5081 - accuracy: 0.7634\n",
            "Epoch 55/100\n",
            "28/28 [==============================] - 0s 3ms/step - loss: 0.5080 - accuracy: 0.7634\n",
            "Epoch 56/100\n",
            "28/28 [==============================] - 0s 3ms/step - loss: 0.5082 - accuracy: 0.7634\n",
            "Epoch 57/100\n",
            "28/28 [==============================] - 0s 3ms/step - loss: 0.5083 - accuracy: 0.7634\n",
            "Epoch 58/100\n",
            "28/28 [==============================] - 0s 3ms/step - loss: 0.5080 - accuracy: 0.7634\n",
            "Epoch 59/100\n",
            "28/28 [==============================] - 0s 3ms/step - loss: 0.5081 - accuracy: 0.7634\n",
            "Epoch 60/100\n",
            "28/28 [==============================] - 0s 3ms/step - loss: 0.5077 - accuracy: 0.7634\n",
            "Epoch 61/100\n",
            "28/28 [==============================] - 0s 3ms/step - loss: 0.5079 - accuracy: 0.7634\n",
            "Epoch 62/100\n",
            "28/28 [==============================] - 0s 3ms/step - loss: 0.5084 - accuracy: 0.7599\n",
            "Epoch 63/100\n",
            "28/28 [==============================] - 0s 3ms/step - loss: 0.5077 - accuracy: 0.7599\n",
            "Epoch 64/100\n",
            "28/28 [==============================] - 0s 3ms/step - loss: 0.5074 - accuracy: 0.7634\n",
            "Epoch 65/100\n",
            "28/28 [==============================] - 0s 3ms/step - loss: 0.5075 - accuracy: 0.7634\n",
            "Epoch 66/100\n",
            "28/28 [==============================] - 0s 3ms/step - loss: 0.5077 - accuracy: 0.7634\n",
            "Epoch 67/100\n",
            "28/28 [==============================] - 0s 2ms/step - loss: 0.5073 - accuracy: 0.7634\n",
            "Epoch 68/100\n",
            "28/28 [==============================] - 0s 3ms/step - loss: 0.5071 - accuracy: 0.7634\n",
            "Epoch 69/100\n",
            "28/28 [==============================] - 0s 3ms/step - loss: 0.5075 - accuracy: 0.7599\n",
            "Epoch 70/100\n",
            "28/28 [==============================] - 0s 3ms/step - loss: 0.5070 - accuracy: 0.7634\n",
            "Epoch 71/100\n",
            "28/28 [==============================] - 0s 3ms/step - loss: 0.5075 - accuracy: 0.7634\n",
            "Epoch 72/100\n",
            "28/28 [==============================] - 0s 3ms/step - loss: 0.5074 - accuracy: 0.7634\n",
            "Epoch 73/100\n",
            "28/28 [==============================] - 0s 3ms/step - loss: 0.5073 - accuracy: 0.7634\n",
            "Epoch 74/100\n",
            "28/28 [==============================] - 0s 3ms/step - loss: 0.5068 - accuracy: 0.7634\n",
            "Epoch 75/100\n",
            "28/28 [==============================] - 0s 3ms/step - loss: 0.5072 - accuracy: 0.7634\n",
            "Epoch 76/100\n",
            "28/28 [==============================] - 0s 3ms/step - loss: 0.5069 - accuracy: 0.7634\n",
            "Epoch 77/100\n",
            "28/28 [==============================] - 0s 3ms/step - loss: 0.5069 - accuracy: 0.7599\n",
            "Epoch 78/100\n",
            "28/28 [==============================] - 0s 3ms/step - loss: 0.5068 - accuracy: 0.7634\n",
            "Epoch 79/100\n",
            "28/28 [==============================] - 0s 3ms/step - loss: 0.5067 - accuracy: 0.7634\n",
            "Epoch 80/100\n",
            "28/28 [==============================] - 0s 3ms/step - loss: 0.5071 - accuracy: 0.7634\n",
            "Epoch 81/100\n",
            "28/28 [==============================] - 0s 3ms/step - loss: 0.5068 - accuracy: 0.7634\n",
            "Epoch 82/100\n",
            "28/28 [==============================] - 0s 3ms/step - loss: 0.5070 - accuracy: 0.7634\n",
            "Epoch 83/100\n",
            "28/28 [==============================] - 0s 4ms/step - loss: 0.5075 - accuracy: 0.7634\n",
            "Epoch 84/100\n",
            "28/28 [==============================] - 0s 3ms/step - loss: 0.5074 - accuracy: 0.7634\n",
            "Epoch 85/100\n",
            "28/28 [==============================] - 0s 3ms/step - loss: 0.5067 - accuracy: 0.7634\n",
            "Epoch 86/100\n",
            "28/28 [==============================] - 0s 3ms/step - loss: 0.5065 - accuracy: 0.7634\n",
            "Epoch 87/100\n",
            "28/28 [==============================] - 0s 4ms/step - loss: 0.5073 - accuracy: 0.7634\n",
            "Epoch 88/100\n",
            "28/28 [==============================] - 0s 3ms/step - loss: 0.5063 - accuracy: 0.7599\n",
            "Epoch 89/100\n",
            "28/28 [==============================] - 0s 3ms/step - loss: 0.5063 - accuracy: 0.7634\n",
            "Epoch 90/100\n",
            "28/28 [==============================] - 0s 3ms/step - loss: 0.5063 - accuracy: 0.7670\n",
            "Epoch 91/100\n",
            "28/28 [==============================] - 0s 3ms/step - loss: 0.5062 - accuracy: 0.7634\n",
            "Epoch 92/100\n",
            "28/28 [==============================] - 0s 4ms/step - loss: 0.5065 - accuracy: 0.7599\n",
            "Epoch 93/100\n",
            "28/28 [==============================] - 0s 3ms/step - loss: 0.5062 - accuracy: 0.7634\n",
            "Epoch 94/100\n",
            "28/28 [==============================] - 0s 2ms/step - loss: 0.5060 - accuracy: 0.7634\n",
            "Epoch 95/100\n",
            "28/28 [==============================] - 0s 2ms/step - loss: 0.5062 - accuracy: 0.7634\n",
            "Epoch 96/100\n",
            "28/28 [==============================] - 0s 2ms/step - loss: 0.5062 - accuracy: 0.7670\n",
            "Epoch 97/100\n",
            "28/28 [==============================] - 0s 2ms/step - loss: 0.5063 - accuracy: 0.7599\n",
            "Epoch 98/100\n",
            "28/28 [==============================] - 0s 2ms/step - loss: 0.5060 - accuracy: 0.7634\n",
            "Epoch 99/100\n",
            "28/28 [==============================] - 0s 2ms/step - loss: 0.5056 - accuracy: 0.7634\n",
            "Epoch 100/100\n",
            "28/28 [==============================] - 0s 3ms/step - loss: 0.5058 - accuracy: 0.7634\n"
          ]
        },
        {
          "output_type": "execute_result",
          "data": {
            "text/plain": [
              "<keras.src.callbacks.History at 0x7d0060327850>"
            ]
          },
          "metadata": {},
          "execution_count": 37
        }
      ]
    },
    {
      "cell_type": "markdown",
      "source": [
        "**Evaluate The Model**"
      ],
      "metadata": {
        "id": "D4cLZtk9T1f2"
      }
    },
    {
      "cell_type": "code",
      "source": [
        "loss, accuracy = model.evaluate(X_test_scaler, y_test)\n",
        "print('Accuracy: %.2f' % (accuracy*100))"
      ],
      "metadata": {
        "colab": {
          "base_uri": "https://localhost:8080/"
        },
        "id": "OQ61RIk9T8vY",
        "outputId": "c8317ed5-e6d7-40c8-9f78-88e2315c9011"
      },
      "execution_count": 38,
      "outputs": [
        {
          "output_type": "stream",
          "name": "stdout",
          "text": [
            "3/3 [==============================] - 0s 7ms/step - loss: 0.7119 - accuracy: 0.6571\n",
            "Accuracy: 65.71\n"
          ]
        }
      ]
    }
  ]
}
{
  "cells": [
    {
      "cell_type": "markdown",
      "metadata": {
        "id": "view-in-github",
        "colab_type": "text"
      },
      "source": [
        "<a href=\"https://colab.research.google.com/github/abeer7asan/AI/blob/main/Demo_Proactive_Credit_Card_Fraud_Detector.ipynb\" target=\"_parent\"><img src=\"https://colab.research.google.com/assets/colab-badge.svg\" alt=\"Open In Colab\"/></a>"
      ]
    },
    {
      "cell_type": "markdown",
      "id": 3.0293430767166755e+38,
      "metadata": {
        "id": 3.0293430767166755e+38
      },
      "source": [
        "# Group-3 Demo: Proactive Credit Card Fraud Detector\n",
        "### This demo takes in 30 inputs from the user in dropdowns and predicts Fraud transaction.\n",
        "        "
      ]
    },
    {
      "cell_type": "code",
      "execution_count": 17,
      "id": 2.7299665331067346e+38,
      "metadata": {
        "id": 2.7299665331067346e+38
      },
      "outputs": [],
      "source": [
        "!pip install -q gradio numpy==1.23.2 matplotlib shap xgboost pandas datasets"
      ]
    },
    {
      "cell_type": "code",
      "source": [
        "import gradio as gr\n",
        "import random\n",
        "import matplotlib.pyplot as plt\n",
        "import pandas as pd\n",
        "import shap\n",
        "import xgboost as xgb\n",
        "from datasets import load_dataset\n",
        "import pickle\n",
        "import numpy as np\n",
        "import random"
      ],
      "metadata": {
        "id": "XBS4L88DR2rs"
      },
      "id": "XBS4L88DR2rs",
      "execution_count": 18,
      "outputs": []
    },
    {
      "cell_type": "code",
      "source": [
        "model = pickle.load(open('/content/sample_data/model_nn_undersampling.pkl','rb'))"
      ],
      "metadata": {
        "id": "VW1DJ0AdR6yY"
      },
      "id": "VW1DJ0AdR6yY",
      "execution_count": 19,
      "outputs": []
    },
    {
      "cell_type": "code",
      "source": [
        "X_train = pd.read_csv(\"/content/sample_data/creditcard.csv\")"
      ],
      "metadata": {
        "id": "Vi9O37Tb9jw2"
      },
      "id": "Vi9O37Tb9jw2",
      "execution_count": 20,
      "outputs": []
    },
    {
      "cell_type": "code",
      "source": [
        "def predict_undersampling(*args):\n",
        "    float_args = [float(arg) for arg in args]\n",
        "    df = pd.DataFrame([float_args])\n",
        "    print(df.values)\n",
        "    pred = (model.predict(np.array(df))>= 0.5).astype(int)\n",
        "    print('******')\n",
        "    lable = pred[0][0]\n",
        "    return str(lable)"
      ],
      "metadata": {
        "id": "F-RgvbtCn1zn"
      },
      "id": "F-RgvbtCn1zn",
      "execution_count": 22,
      "outputs": []
    },
    {
      "cell_type": "code",
      "source": [
        "def random_selection1():\n",
        "  random_number = random.randint(0, len(X_train) - 1)\n",
        "  selected_row = X_train.iloc[random_number]\n",
        "  print(random_number)\n",
        "  print(selected_row.values)\n",
        "\n",
        "\n"
      ],
      "metadata": {
        "id": "CHRgOqUn7LbD"
      },
      "id": "CHRgOqUn7LbD",
      "execution_count": 23,
      "outputs": []
    },
    {
      "cell_type": "code",
      "source": [
        "random_selection1()"
      ],
      "metadata": {
        "colab": {
          "base_uri": "https://localhost:8080/"
        },
        "id": "IpzgTt6H9Vw1",
        "outputId": "d1ea01eb-60c5-4593-ed9a-488de577ba67"
      },
      "id": "IpzgTt6H9Vw1",
      "execution_count": 24,
      "outputs": [
        {
          "output_type": "stream",
          "name": "stdout",
          "text": [
            "374\n",
            "[ 1.71884000e+05 -1.85054381e+00  1.64423034e+00 -2.01271607e+00\n",
            " -3.26058199e-01  9.41369173e-01  7.11892201e-01 -1.44740502e+00\n",
            " -4.79216164e+00 -7.93549107e-01 -1.39637945e+00 -6.53676501e-01\n",
            "  3.04107547e-01 -1.64783291e+00  2.11007735e+00  8.78851985e-01\n",
            " -1.23254353e+00  1.08418828e+00 -1.47007950e+00 -1.17605546e+00\n",
            "  6.70518573e-01 -2.22302866e+00  2.07824026e+00  7.86797156e-01\n",
            " -9.97320896e-01 -1.04871233e+00 -2.19462687e-01  3.41095163e-01\n",
            "  2.33510698e-01  1.49000000e+01  0.00000000e+00]\n"
          ]
        }
      ]
    },
    {
      "cell_type": "code",
      "source": [
        "predict_undersampling(0, -12.51673185, -4.16900324, -16.23379766, -4.422745118,\n",
        "  -40.4277263, -3.50413701, -4.533221978, -7.983019944,\n",
        "  -3.159994215, -2.70651735, -2.70651735, -2.421937721,\n",
        "  -2.586842115, -3.081209761, -2.843270945, -3.513308269,\n",
        "  -1.523702812, -2.533941907, -2.899684413, -2.172597299,\n",
        "  -2.927004458, -1.64255886, -1.64702037, -2.011350739,\n",
        "  -2.097843087, -1.420358161, -2.616341218, -3.320888781, 0.0)"
      ],
      "metadata": {
        "colab": {
          "base_uri": "https://localhost:8080/",
          "height": 174
        },
        "id": "mObb_tiByuva",
        "outputId": "1c4f6eef-a893-418e-cdd6-ccfeb04588b1"
      },
      "id": "mObb_tiByuva",
      "execution_count": 25,
      "outputs": [
        {
          "output_type": "stream",
          "name": "stdout",
          "text": [
            "[[  0.         -12.51673185  -4.16900324 -16.23379766  -4.42274512\n",
            "  -40.4277263   -3.50413701  -4.53322198  -7.98301994  -3.15999422\n",
            "   -2.70651735  -2.70651735  -2.42193772  -2.58684212  -3.08120976\n",
            "   -2.84327094  -3.51330827  -1.52370281  -2.53394191  -2.89968441\n",
            "   -2.1725973   -2.92700446  -1.64255886  -1.64702037  -2.01135074\n",
            "   -2.09784309  -1.42035816  -2.61634122  -3.32088878   0.        ]]\n",
            "1/1 [==============================] - 0s 64ms/step\n",
            "******\n"
          ]
        },
        {
          "output_type": "execute_result",
          "data": {
            "text/plain": [
              "'0'"
            ],
            "application/vnd.google.colaboratory.intrinsic+json": {
              "type": "string"
            }
          },
          "metadata": {},
          "execution_count": 25
        }
      ]
    },
    {
      "cell_type": "code",
      "source": [
        "categorical_columns = [\n",
        "    \"Time\",\n",
        "    \"V1\",\n",
        "    \"V2\",\n",
        "    \"V3\",\n",
        "    \"V4\",\n",
        "    \"V5\",\n",
        "    \"V6\",\n",
        "    \"V7\",\n",
        "    \"V8\",\n",
        "    \"V9\",\n",
        "    \"V10\",\n",
        "    \"V11\",\n",
        "    \"V12\",\n",
        "    \"V13\",\n",
        "    \"V14\",\n",
        "    \"V15\",\n",
        "    \"V16\",\n",
        "    \"V17\",\n",
        "    \"V18\",\n",
        "    \"V19\",\n",
        "    \"V20\",\n",
        "    \"V21\",\n",
        "    \"V22\",\n",
        "    \"V23\",\n",
        "    \"V24\",\n",
        "    \"V25\",\n",
        "    \"V26\",\n",
        "    \"V27\",\n",
        "    \"V28\",\n",
        "    \"Amount\",\n",
        "]\n",
        "X_train = X_train.astype({col: \"category\" for col in categorical_columns})\n",
        "# data = xgb.DMatrix(X_train, label=y_train, enable_categorical=True)\n",
        "# model = xgb.train(params={\"objective\": \"binary:logistic\"}, dtrain=data)\n",
        "# explainer = shap.TreeExplainer(model)\n",
        "\n",
        "unique_time = sorted(X_train[\"Time\"].unique())\n",
        "unique_v1 = sorted(X_train[\"V1\"].unique())\n",
        "unique_v2 = sorted(X_train[\"V2\"].unique())\n",
        "unique_v3 = sorted(X_train[\"V3\"].unique())\n",
        "unique_v4 = sorted(X_train[\"V4\"].unique())\n",
        "unique_v5 = sorted(X_train[\"V5\"].unique())\n",
        "unique_v6 = sorted(X_train[\"V6\"].unique())\n",
        "unique_v7 = sorted(X_train[\"V7\"].unique())\n",
        "unique_v8 = sorted(X_train[\"V8\"].unique())\n",
        "unique_v9 = sorted(X_train[\"V9\"].unique())\n",
        "unique_v10 = sorted(X_train[\"V10\"].unique())\n",
        "unique_v11 = sorted(X_train[\"V11\"].unique())\n",
        "unique_v12 = sorted(X_train[\"V12\"].unique())\n",
        "unique_v13 = sorted(X_train[\"V13\"].unique())\n",
        "unique_v14 = sorted(X_train[\"V14\"].unique())\n",
        "unique_v15 = sorted(X_train[\"V15\"].unique())\n",
        "unique_v16 = sorted(X_train[\"V16\"].unique())\n",
        "unique_v17 = sorted(X_train[\"V17\"].unique())\n",
        "unique_v18 = sorted(X_train[\"V18\"].unique())\n",
        "unique_v19 = sorted(X_train[\"V19\"].unique())\n",
        "unique_v20 = sorted(X_train[\"V20\"].unique())\n",
        "unique_v21 = sorted(X_train[\"V21\"].unique())\n",
        "unique_v22 = sorted(X_train[\"V22\"].unique())\n",
        "unique_v23 = sorted(X_train[\"V23\"].unique())\n",
        "unique_v24 = sorted(X_train[\"V24\"].unique())\n",
        "unique_v25 = sorted(X_train[\"V25\"].unique())\n",
        "unique_v26 = sorted(X_train[\"V26\"].unique())\n",
        "unique_v27 = sorted(X_train[\"V27\"].unique())\n",
        "unique_v28 = sorted(X_train[\"V28\"].unique())\n",
        "unique_amount = sorted(X_train[\"Amount\"].unique())\n"
      ],
      "metadata": {
        "id": "xw6OoyEVn77P"
      },
      "id": "xw6OoyEVn77P",
      "execution_count": 26,
      "outputs": []
    },
    {
      "cell_type": "code",
      "source": [
        "def random_selection():\n",
        "   random_number = random.randint(0, len(X_train) - 1)\n",
        "   selected_row = X_train.iloc[random_number]\n",
        "   print(str(selected_row.values))\n",
        "   return([\n",
        "          #  str(selected_row.values),\n",
        "           str(selected_row[0]),\n",
        "           str(selected_row[1]),\n",
        "           str(selected_row[2]),\n",
        "           str(selected_row[3]),\n",
        "           str(selected_row[4]),\n",
        "           str(selected_row[5]),\n",
        "           str(selected_row[6]),\n",
        "           str(selected_row[7]),\n",
        "           str(selected_row[8]),\n",
        "           str(selected_row[9]),\n",
        "           str(selected_row[10]),\n",
        "           str(selected_row[11]),\n",
        "           str(selected_row[12]),\n",
        "           str(selected_row[13]),\n",
        "           str(selected_row[14]),\n",
        "           str(selected_row[15]),\n",
        "           str(selected_row[16]),\n",
        "           str(selected_row[17]),\n",
        "           str(selected_row[18]),\n",
        "           str(selected_row[19]),\n",
        "           str(selected_row[20]),\n",
        "           str(selected_row[21]),\n",
        "           str(selected_row[22]),\n",
        "           str(selected_row[23]),\n",
        "           str(selected_row[24]),\n",
        "           str(selected_row[25]),\n",
        "           str(selected_row[26]),\n",
        "           str(selected_row[27]),\n",
        "           str(selected_row[28]),\n",
        "           str(selected_row[29]),\n",
        "           str(selected_row[30]),\n",
        "           ])\n",
        ""
      ],
      "metadata": {
        "id": "UVX7pFQlQ_kn"
      },
      "id": "UVX7pFQlQ_kn",
      "execution_count": 39,
      "outputs": []
    },
    {
      "cell_type": "code",
      "execution_count": null,
      "id": 2.8891853944186117e+38,
      "metadata": {
        "id": 2.8891853944186117e+38,
        "outputId": "74fb7989-fbd6-4f62-ac8e-e8d8b61146b9",
        "colab": {
          "base_uri": "https://localhost:8080/",
          "height": 610
        }
      },
      "outputs": [
        {
          "output_type": "stream",
          "name": "stdout",
          "text": [
            "Colab notebook detected. This cell will run indefinitely so that you can see errors and logs. To turn off, set debug=False in launch().\n",
            "Running on public URL: https://6f67f7d3e1bdb4051b.gradio.live\n",
            "\n",
            "This share link expires in 72 hours. For free permanent hosting and GPU upgrades, run `gradio deploy` from Terminal to deploy to Spaces (https://huggingface.co/spaces)\n"
          ]
        },
        {
          "output_type": "display_data",
          "data": {
            "text/plain": [
              "<IPython.core.display.HTML object>"
            ],
            "text/html": [
              "<div><iframe src=\"https://6f67f7d3e1bdb4051b.gradio.live\" width=\"100%\" height=\"500\" allow=\"autoplay; camera; microphone; clipboard-read; clipboard-write;\" frameborder=\"0\" allowfullscreen></iframe></div>"
            ]
          },
          "metadata": {}
        }
      ],
      "source": [
        "with gr.Blocks() as demo:\n",
        "    title=\"Translation Demo\",\n",
        "    selected_row= []\n",
        "    gr.Markdown(\"\"\"\n",
        "    **Group-3 Demo: Proactive Credit Card Fraud Detector 💰**:  This demo takes in 30 inputs from the user in dropdowns and predicts Fraud transaction.\"\"\")\n",
        "    with gr.Row():\n",
        "        with gr.Column():\n",
        "            time = gr.Dropdown(\n",
        "                label=\"time\",\n",
        "                choices=unique_time,\n",
        "                value=lambda: random.choice(unique_time),\n",
        "            )\n",
        "            v1 = gr.Dropdown(\n",
        "                label=\"v1\",\n",
        "                choices=unique_v1,\n",
        "                value=lambda: random.choice(unique_v1),\n",
        "            )\n",
        "            v2 = gr.Dropdown(\n",
        "                label=\"v2\",\n",
        "                choices=unique_v2,\n",
        "                value=lambda: random.choice(unique_v2),\n",
        "            )\n",
        "            v3 = gr.Dropdown(\n",
        "                label=\"v3\",\n",
        "                choices=unique_v3,\n",
        "                value=lambda: random.choice(unique_v3),\n",
        "            )\n",
        "            v4 = gr.Dropdown(\n",
        "                label=\"v4\",\n",
        "                choices=unique_v4,\n",
        "                value=lambda: random.choice(unique_v4),\n",
        "            )\n",
        "            v5 = gr.Dropdown(\n",
        "                label=\"v5\",\n",
        "                choices=unique_v5,\n",
        "                value=lambda: random.choice(unique_v5),\n",
        "            )\n",
        "            v6 = gr.Dropdown(\n",
        "                label=\"v6\",\n",
        "                choices=unique_v6,\n",
        "                value=lambda: random.choice(unique_v6),\n",
        "            )\n",
        "            v7 = gr.Dropdown(\n",
        "                label=\"v7\",\n",
        "                choices=unique_v7,\n",
        "                value=lambda: random.choice(unique_v7),\n",
        "            )\n",
        "            v8 = gr.Dropdown(\n",
        "                label=\"v8\", choices=unique_v8, value=lambda: random.choice(unique_v8)\n",
        "            )\n",
        "            v9 = gr.Dropdown(\n",
        "                label=\"v9\",\n",
        "                choices=unique_v9,\n",
        "                value=lambda: random.choice(unique_v9),\n",
        "            )\n",
        "        with gr.Column():\n",
        "            v10 = gr.Dropdown(\n",
        "                label=\"v10\",\n",
        "                choices=unique_v10,\n",
        "                value=lambda: random.choice(unique_v10),\n",
        "            )\n",
        "            v11 = gr.Dropdown(\n",
        "                label=\"v11\",\n",
        "                choices=unique_v10,\n",
        "                value=lambda: random.choice(unique_v10),\n",
        "            )\n",
        "            v12 = gr.Dropdown(\n",
        "                label=\"v12\",\n",
        "                choices=unique_v11,\n",
        "                value=lambda: random.choice(unique_v11),\n",
        "            )\n",
        "            v13 = gr.Dropdown(\n",
        "                label=\"v13\",\n",
        "                choices=unique_v12,\n",
        "                value=lambda: random.choice(unique_v12),\n",
        "            )\n",
        "            v14 = gr.Dropdown(\n",
        "                label=\"v14\",\n",
        "                choices=unique_v13,\n",
        "                value=lambda: random.choice(unique_v13),\n",
        "            )\n",
        "            v15 = gr.Dropdown(\n",
        "                label=\"v15\",\n",
        "                choices=unique_v15,\n",
        "                value=lambda: random.choice(unique_v15),\n",
        "            )\n",
        "            v16 = gr.Dropdown(\n",
        "                label=\"v16\",\n",
        "                choices=unique_v16,\n",
        "                value=lambda: random.choice(unique_v16),\n",
        "            )\n",
        "            v17 = gr.Dropdown(\n",
        "                label=\"v17\",\n",
        "                choices=unique_v17,\n",
        "                value=lambda: random.choice(unique_v17),\n",
        "            )\n",
        "            v18 = gr.Dropdown(\n",
        "                label=\"v18\",\n",
        "                choices=unique_v18,\n",
        "                value=lambda: random.choice(unique_v18)\n",
        "            )\n",
        "            v19 = gr.Dropdown(\n",
        "                label=\"v19\",\n",
        "                choices=unique_v19,\n",
        "                value=lambda: random.choice(unique_v19),\n",
        "            )\n",
        "        with gr.Column():\n",
        "            v20 = gr.Dropdown(\n",
        "                label=\"v20\",\n",
        "                choices=unique_v20,\n",
        "                value=lambda: random.choice(unique_v20),\n",
        "            )\n",
        "            v21 = gr.Dropdown(\n",
        "                label=\"v21\",\n",
        "                choices=unique_v21,\n",
        "                value=lambda: random.choice(unique_v21),\n",
        "            )\n",
        "            v22 = gr.Dropdown(\n",
        "                label=\"v22\",\n",
        "                choices=unique_v22,\n",
        "                value=lambda: random.choice(unique_v22),\n",
        "            )\n",
        "            v23 = gr.Dropdown(\n",
        "                label=\"v23\",\n",
        "                choices=unique_v23,\n",
        "                value=lambda: random.choice(unique_v23),\n",
        "            )\n",
        "            v24 = gr.Dropdown(\n",
        "                label=\"v24\",\n",
        "                choices=unique_v24,\n",
        "                value=lambda: random.choice(unique_v24),\n",
        "            )\n",
        "            v25 = gr.Dropdown(\n",
        "                label=\"v25\",\n",
        "                choices=unique_v25,\n",
        "                value=lambda: random.choice(unique_v25),\n",
        "            )\n",
        "            v26 = gr.Dropdown(\n",
        "                label=\"v26\",\n",
        "                choices=unique_v26,\n",
        "                value=lambda: random.choice(unique_v26),\n",
        "            )\n",
        "            v27 = gr.Dropdown(\n",
        "                label=\"v27\",\n",
        "                choices=unique_v27,\n",
        "                value=lambda: random.choice(unique_v27),\n",
        "            )\n",
        "            v28 = gr.Dropdown(\n",
        "                label=\"v28\", choices=unique_v28, value=lambda: random.choice(unique_v28)\n",
        "            )\n",
        "            amount = gr.Dropdown(\n",
        "                label=\"Amount\",\n",
        "                choices=unique_amount,\n",
        "                value=lambda: random.choice(unique_amount),\n",
        "            )\n",
        "    with gr.Row():\n",
        "        with gr.Column():\n",
        "            label = gr.Label(label= 'Fraud Dedection')\n",
        "            plot1 = gr.Label(label= 'Actual Result')\n",
        "            with gr.Row():\n",
        "                predict_btn = gr.Button(value=\"Predict\")\n",
        "                interpret_btn = gr.Button(value=\"Random Selection\")\n",
        "            predict_btn.click(\n",
        "                predict_undersampling,\n",
        "                inputs=[\n",
        "                    time,\n",
        "                    v1,\n",
        "                    v2,\n",
        "                    v3,\n",
        "                    v4,\n",
        "                    v5,\n",
        "                    v6,\n",
        "                    v7,\n",
        "                    v8,\n",
        "                    v9,\n",
        "                    v10,\n",
        "                    v11,\n",
        "                    v12,\n",
        "                    v13,\n",
        "                    v14,\n",
        "                    v15,\n",
        "                    v16,\n",
        "                    v17,\n",
        "                    v18,\n",
        "                    v19,\n",
        "                    v20,\n",
        "                    v21,\n",
        "                    v22,\n",
        "                    v23,\n",
        "                    v24,\n",
        "                    v25,\n",
        "                    v26,\n",
        "                    v27,\n",
        "                    v28,\n",
        "                    amount,\n",
        "                ],\n",
        "                outputs=[label],\n",
        "            ),\n",
        "            interpret_btn.click(\n",
        "                random_selection,\n",
        "                inputs=[] ,\n",
        "                outputs=[\n",
        "                    time,\n",
        "                    v1,\n",
        "                    v2,\n",
        "                    v3,\n",
        "                    v4,\n",
        "                    v5,\n",
        "                    v6,\n",
        "                    v7,\n",
        "                    v8,\n",
        "                    v9,\n",
        "                    v10,\n",
        "                    v11,\n",
        "                    v12,\n",
        "                    v13,\n",
        "                    v14,\n",
        "                    v15,\n",
        "                    v16,\n",
        "                    v17,\n",
        "                    v18,\n",
        "                    v19,\n",
        "                    v20,\n",
        "                    v21,\n",
        "                    v22,\n",
        "                    v23,\n",
        "                    v24,\n",
        "                    v25,\n",
        "                    v26,\n",
        "                    v27,\n",
        "                    v28,\n",
        "                    amount,\n",
        "                    plot1\n",
        "                    ])\n",
        "\n",
        "demo.launch(\n",
        "            share=True,\n",
        "            debug=True)\n"
      ]
    }
  ],
  "metadata": {
    "colab": {
      "provenance": [],
      "include_colab_link": true
    },
    "language_info": {
      "name": "python"
    },
    "kernelspec": {
      "name": "python3",
      "display_name": "Python 3"
    }
  },
  "nbformat": 4,
  "nbformat_minor": 5
}